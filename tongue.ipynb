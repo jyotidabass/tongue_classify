{
  "nbformat": 4,
  "nbformat_minor": 0,
  "metadata": {
    "colab": {
      "name": "tongue.ipynb",
      "provenance": [],
      "authorship_tag": "ABX9TyOq+PnjW0yAZI6kjDkGwkH5",
      "include_colab_link": true
    },
    "kernelspec": {
      "name": "python3",
      "display_name": "Python 3"
    },
    "language_info": {
      "name": "python"
    }
  },
  "cells": [
    {
      "cell_type": "markdown",
      "metadata": {
        "id": "view-in-github",
        "colab_type": "text"
      },
      "source": [
        "<a href=\"https://colab.research.google.com/github/jyotidabass/tongue_classify/blob/main/tongue.ipynb\" target=\"_parent\"><img src=\"https://colab.research.google.com/assets/colab-badge.svg\" alt=\"Open In Colab\"/></a>"
      ]
    },
    {
      "cell_type": "code",
      "execution_count": 19,
      "metadata": {
        "colab": {
          "base_uri": "https://localhost:8080/"
        },
        "id": "6AteCAkNdS_2",
        "outputId": "3e7475a2-8bef-4ff3-b518-34686002a1b5"
      },
      "outputs": [
        {
          "output_type": "stream",
          "name": "stdout",
          "text": [
            "Drive already mounted at /content/drive; to attempt to forcibly remount, call drive.mount(\"/content/drive\", force_remount=True).\n"
          ]
        }
      ],
      "source": [
        "from google.colab import drive\n",
        "drive.mount('/content/drive')"
      ]
    },
    {
      "cell_type": "code",
      "source": [
        "from multiprocessing import freeze_support\n",
        "\n",
        "import torch\n",
        "from torch import nn\n",
        "import torchvision\n",
        "from torch.autograd import Variable\n",
        "from torch.utils.data import DataLoader, Sampler\n",
        "from torchvision import datasets\n",
        "from torchvision.transforms import transforms\n",
        "from torch.optim import Adam\n",
        "\n",
        "import matplotlib.pyplot as plt\n",
        "import numpy as np\n",
        "import PIL\n",
        "from pathlib import Path\n",
        "\n",
        "num_classes = 3\n",
        "batch_size = 32\n",
        "num_of_workers = 2\n",
        "\n",
        "DATA_PATH_TRAIN = Path('/content/drive/MyDrive/The Omni Life - Tongue Images (1)/Train')\n",
        "DATA_PATH_TEST = Path('/content/drive/MyDrive/The Omni Life - Tongue Images (1)/Test')\n",
        "\n",
        "trans = transforms.Compose([\n",
        "    transforms.RandomHorizontalFlip(),\n",
        "    transforms.Resize(64),\n",
        "    transforms.CenterCrop(64),\n",
        "    transforms.ToTensor(),\n",
        "    transforms.Normalize((0.5, 0.5, 0.5),(0.5, 0.5, 0.5))\n",
        "    ])\n",
        "\n",
        "train_dataset = datasets.ImageFolder(root=DATA_PATH_TRAIN, transform=trans)\n",
        "train_loader = DataLoader(dataset=train_dataset, batch_size=batch_size, shuffle=True, num_workers=num_of_workers)\n",
        "\n",
        "def imshow(img):\n",
        "    img = img / 2 + 0.5 # unnormalize\n",
        "    npimg = img.numpy()\n",
        "    plt.imshow(np.transpose(img[0].numpy(), (1, 2, 0)))\n",
        "    plt.show()\n",
        "\n",
        "def main():\n",
        "    # get some random training images\n",
        "    dataiter = iter(train_loader)\n",
        "    images, labels = dataiter.next()\n",
        "\n",
        "    # show images\n",
        "    imshow(images)\n",
        "\n",
        "if __name__ == \"__main__\":\n",
        "    main()"
      ],
      "metadata": {
        "colab": {
          "base_uri": "https://localhost:8080/",
          "height": 268
        },
        "id": "XZPmGprydo_A",
        "outputId": "51e45e80-1d77-482e-ae77-a7d35e794a7d"
      },
      "execution_count": 20,
      "outputs": [
        {
          "output_type": "display_data",
          "data": {
            "text/plain": [
              "<Figure size 432x288 with 1 Axes>"
            ],
            "image/png": "[encoded data removed]"
          },
          "metadata": {
            "needs_background": "light"
          }
        }
      ]
    },
    {
      "cell_type": "code",
      "source": [
        "from multiprocessing import freeze_support\n",
        "\n",
        "import torch\n",
        "from torch import nn\n",
        "from torch.autograd import Variable\n",
        "from torch.utils.data import DataLoader, Sampler\n",
        "from torchvision import datasets\n",
        "from torchvision.transforms import transforms\n",
        "from torch.optim import Adam\n",
        "\n",
        "import matplotlib.pyplot as plt\n",
        "import numpy as np\n",
        "from pathlib import Path"
      ],
      "metadata": {
        "id": "Et_txtCZnLBR"
      },
      "execution_count": 21,
      "outputs": []
    },
    {
      "cell_type": "code",
      "source": [
        "\n",
        "# Hyperparameters.\n",
        "num_epochs = 11\n",
        "num_classes = 3\n",
        "batch_size = 32\n",
        "learning_rate = 3e-4\n",
        "num_of_workers = 2\n",
        "\n",
        "DATA_PATH_TRAIN = Path('/content/drive/MyDrive/The Omni Life - Tongue Images (1)/Train')\n",
        "DATA_PATH_TEST = Path('/content/drive/MyDrive/The Omni Life - Tongue Images (1)/Validation')"
      ],
      "metadata": {
        "id": "Xq1LXkoJnPdm"
      },
      "execution_count": 22,
      "outputs": []
    },
    {
      "cell_type": "code",
      "source": [
        "MODEL_STORE_PATH = Path('/content/drive/MyDrive')\n",
        "\n",
        "trans = transforms.Compose([\n",
        "    transforms.RandomHorizontalFlip(),\n",
        "    transforms.Resize(64),\n",
        "    transforms.CenterCrop(64),\n",
        "    transforms.ToTensor(),\n",
        "    transforms.Normalize((0.5, 0.5, 0.5),(0.5, 0.5, 0.5))\n",
        "    ])\n",
        "\n",
        "# Tongue dataset.\n",
        "train_dataset = datasets.ImageFolder(root=DATA_PATH_TRAIN, transform=trans)\n",
        "test_dataset = datasets.ImageFolder(root=DATA_PATH_TEST, transform=trans)\n",
        "\n",
        "# Create custom random sampler class to iter over dataloader.\n",
        "train_loader = DataLoader(dataset=train_dataset, batch_size=batch_size, shuffle=True, num_workers=num_of_workers)\n",
        "test_loader = DataLoader(dataset=test_dataset, batch_size=batch_size, shuffle=False, num_workers=num_of_workers)"
      ],
      "metadata": {
        "id": "XGffYUJHnXWP"
      },
      "execution_count": 23,
      "outputs": []
    },
    {
      "cell_type": "code",
      "source": [
        "# CNN we are going to implement.\n",
        "class Unit(nn.Module):\n",
        "    def __init__(self, in_channels, out_channels):\n",
        "        super(Unit, self).__init__()\n",
        "\n",
        "        self.conv = nn.Conv2d(in_channels=in_channels, kernel_size=3, out_channels=out_channels, stride=1, padding=1)\n",
        "        self.bn = nn.BatchNorm2d(num_features=out_channels)\n",
        "        self.relu = nn.ReLU()\n",
        "\n",
        "    def forward(self, input):\n",
        "        output = self.conv(input)\n",
        "        output = self.bn(output)\n",
        "        output = self.relu(output)\n",
        "\n",
        "        return output"
      ],
      "metadata": {
        "id": "QH3GQqw2ncC1"
      },
      "execution_count": 24,
      "outputs": []
    },
    {
      "cell_type": "code",
      "source": [
        "class CNNet(nn.Module):\n",
        "    def __init__(self, num_class):\n",
        "        super(CNNet, self).__init__()\n",
        "\n",
        "        # Create 14 layers of the unit with max pooling in between\n",
        "        self.unit1 = Unit(in_channels=3, out_channels=32)\n",
        "        self.unit2 = Unit(in_channels=32, out_channels=32)\n",
        "        self.unit3 = Unit(in_channels=32, out_channels=32)\n",
        "\n",
        "        self.pool1 = nn.MaxPool2d(kernel_size=2)\n",
        "\n",
        "        self.unit4 = Unit(in_channels=32, out_channels=64)\n",
        "        self.unit5 = Unit(in_channels=64, out_channels=64)\n",
        "        self.unit6 = Unit(in_channels=64, out_channels=64)\n",
        "        self.unit7 = Unit(in_channels=64, out_channels=64)\n",
        "\n",
        "        self.pool2 = nn.MaxPool2d(kernel_size=2)\n",
        "\n",
        "        self.unit8 = Unit(in_channels=64, out_channels=128)\n",
        "        self.unit9 = Unit(in_channels=128, out_channels=128)\n",
        "        self.unit10 = Unit(in_channels=128, out_channels=128)\n",
        "        self.unit11 = Unit(in_channels=128, out_channels=128)\n",
        "\n",
        "        self.pool3 = nn.MaxPool2d(kernel_size=2)\n",
        "\n",
        "        self.unit12 = Unit(in_channels=128, out_channels=128)\n",
        "        self.unit13 = Unit(in_channels=128, out_channels=128)\n",
        "        self.unit14 = Unit(in_channels=128, out_channels=128)\n",
        "\n",
        "        self.avgpool = nn.AvgPool2d(kernel_size=4)\n",
        "\n",
        "        # Add all the units into the Sequential layer in exact order\n",
        "        self.net = nn.Sequential(self.unit1, self.unit2, self.unit3, self.pool1, self.unit4, self.unit5, self.unit6\n",
        "                                 , self.unit7, self.pool2, self.unit8, self.unit9, self.unit10, self.unit11, self.pool3,\n",
        "                                 self.unit12, self.unit13, self.unit14, self.avgpool)\n",
        "\n",
        "        #self.fc = nn.Linear(in_features=128, out_features=num_class)\n",
        "        self.fc = nn.Linear(32*3*3, 3)\n",
        "\n",
        "    def forward(self, input):\n",
        "        output = self.net(input)\n",
        "        output = output.view(1, 32*3*3)\n",
        "        output = self.fc(output)\n",
        "        return output"
      ],
      "metadata": {
        "id": "6yvssXc1nmyq"
      },
      "execution_count": 26,
      "outputs": []
    },
    {
      "cell_type": "code",
      "source": [
        "# Check if gpu support is available\n",
        "cuda_avail = torch.cuda.is_available()\n",
        "\n",
        "# Create model, optimizer and loss function\n",
        "model = CNNet(num_classes)\n",
        "\n",
        "# if cuda is available, move the model to the GPU\n",
        "if cuda_avail:\n",
        "    model.cuda()"
      ],
      "metadata": {
        "id": "e6X9q7-mnsa_"
      },
      "execution_count": 27,
      "outputs": []
    },
    {
      "cell_type": "code",
      "source": [
        "# Define the optimizer and loss function\n",
        "optimizer = Adam(model.parameters(), lr=3e-4, weight_decay=1e-4)\n",
        "loss_fn = nn.CrossEntropyLoss()\n",
        "\n",
        "def save_models(epoch):\n",
        "    torch.save(model.state_dict(), f\"{epoch}.model\")\n",
        "    print(\"Checkpoint saved\")"
      ],
      "metadata": {
        "id": "_-Kzs5B7nyjG"
      },
      "execution_count": 28,
      "outputs": []
    },
    {
      "cell_type": "code",
      "source": [
        "from multiprocessing import freeze_support\n",
        "\n",
        "import torch\n",
        "from torch import nn\n",
        "from torch.autograd import Variable\n",
        "from torch.utils.data import DataLoader, Sampler\n",
        "from torchvision import datasets\n",
        "from torchvision.transforms import transforms\n",
        "from torch.optim import Adam\n",
        "\n",
        "import matplotlib.pyplot as plt\n",
        "import numpy as np\n",
        "\n",
        "from pathlib import Path\n",
        "\n",
        "# Hyperparameters.\n",
        "num_epochs = 20\n",
        "num_classes = 3\n",
        "batch_size = 100\n",
        "learning_rate = 0.001\n",
        "num_of_workers = 3\n",
        "\n",
        "DATA_PATH_TRAIN = Path('/content/drive/MyDrive/The Omni Life - Tongue Images (1)/Train')\n",
        "DATA_PATH_TEST = Path('/content/drive/MyDrive/The Omni Life - Tongue Images (1)/Validation')\n",
        "MODEL_STORE_PATH = Path('/content/drive/MyDrive')\n",
        "\n",
        "trans = transforms.Compose([\n",
        "    transforms.RandomHorizontalFlip(),\n",
        "    transforms.Resize(32),\n",
        "    transforms.CenterCrop(32),\n",
        "    transforms.ToTensor(),\n",
        "    transforms.Normalize((0.5, 0.5, 0.5),(0.5, 0.5, 0.5))\n",
        "    ])\n",
        "\n",
        "# Tongue dataset.\n",
        "train_dataset = datasets.ImageFolder(root=DATA_PATH_TRAIN, transform=trans)\n",
        "test_dataset = datasets.ImageFolder(root=DATA_PATH_TEST, transform=trans)\n",
        "\n",
        "# Create custom random sampler class to iter over dataloader.\n",
        "train_loader = DataLoader(dataset=train_dataset, batch_size=batch_size, shuffle=True, num_workers=num_of_workers)\n",
        "test_loader = DataLoader(dataset=test_dataset, batch_size=batch_size, shuffle=False, num_workers=num_of_workers)\n",
        "\n",
        "# CNN we are going to implement.\n",
        "class Unit(nn.Module):\n",
        "    def __init__(self, in_channels, out_channels):\n",
        "        super(Unit, self).__init__()\n",
        "\n",
        "        self.conv = nn.Conv2d(in_channels=in_channels, kernel_size=3, out_channels=out_channels, stride=1, padding=1)\n",
        "        self.bn = nn.BatchNorm2d(num_features=out_channels)\n",
        "        self.relu = nn.ReLU()\n",
        "\n",
        "    def forward(self, input):\n",
        "        output = self.conv(input)\n",
        "        output = self.bn(output)\n",
        "        output = self.relu(output)\n",
        "\n",
        "        return output\n",
        "\n",
        "\n",
        "class CNNet(nn.Module):\n",
        "    def __init__(self, num_class):\n",
        "        super(CNNet, self).__init__()\n",
        "\n",
        "        # Create 14 layers of the unit with max pooling in between\n",
        "        self.unit1 = Unit(in_channels=3, out_channels=32)\n",
        "        self.unit2 = Unit(in_channels=32, out_channels=32)\n",
        "        self.unit3 = Unit(in_channels=32, out_channels=32)\n",
        "\n",
        "        self.pool1 = nn.MaxPool2d(kernel_size=2)\n",
        "\n",
        "        self.unit4 = Unit(in_channels=32, out_channels=64)\n",
        "        self.unit5 = Unit(in_channels=64, out_channels=64)\n",
        "        self.unit6 = Unit(in_channels=64, out_channels=64)\n",
        "        self.unit7 = Unit(in_channels=64, out_channels=64)\n",
        "\n",
        "        self.pool2 = nn.MaxPool2d(kernel_size=2)\n",
        "\n",
        "        self.unit8 = Unit(in_channels=64, out_channels=128)\n",
        "        self.unit9 = Unit(in_channels=128, out_channels=128)\n",
        "        self.unit10 = Unit(in_channels=128, out_channels=128)\n",
        "        self.unit11 = Unit(in_channels=128, out_channels=128)\n",
        "\n",
        "        self.pool3 = nn.MaxPool2d(kernel_size=2)\n",
        "\n",
        "        self.unit12 = Unit(in_channels=128, out_channels=128)\n",
        "        self.unit13 = Unit(in_channels=128, out_channels=128)\n",
        "        self.unit14 = Unit(in_channels=128, out_channels=128)\n",
        "\n",
        "        self.avgpool = nn.AvgPool2d(kernel_size=4)\n",
        "\n",
        "        # Add all the units into the Sequential layer in exact order\n",
        "        self.net = nn.Sequential(self.unit1, self.unit2, self.unit3, self.pool1, self.unit4, self.unit5, self.unit6\n",
        "                                 , self.unit7, self.pool2, self.unit8, self.unit9, self.unit10, self.unit11, self.pool3,\n",
        "                                 self.unit12, self.unit13, self.unit14, self.avgpool)\n",
        "\n",
        "        self.fc = nn.Linear(in_features=128, out_features=num_class)\n",
        "\n",
        "    def forward(self, input):\n",
        "        output = self.net(input)\n",
        "        output = output.view(-1, 128)\n",
        "        output = self.fc(output)\n",
        "        return output\n",
        "\n",
        "\n",
        "# Check if gpu support is available\n",
        "cuda_avail = torch.cuda.is_available()\n",
        "\n",
        "# Create model, optimizer and loss function\n",
        "model = CNNet(num_classes)\n",
        "\n",
        "# if cuda is available, move the model to the GPU\n",
        "if cuda_avail:\n",
        "    model.cuda()\n",
        "\n",
        "# Define the optimizer and loss function\n",
        "optimizer = Adam(model.parameters(), lr=0.0001, weight_decay=0.0001)\n",
        "loss_fn = nn.CrossEntropyLoss()\n",
        "\n",
        "def save_models(epoch):\n",
        "    torch.save(model.state_dict(), f\"{epoch}.model\")\n",
        "    print(\"Checkpoint saved\")\n",
        "\n",
        "def test():\n",
        "    model.eval()\n",
        "    test_acc = 0.0\n",
        "    for i, (images, labels) in enumerate(test_loader):\n",
        "\n",
        "        if cuda_avail:\n",
        "            images = Variable(images.cuda())\n",
        "            labels = Variable(labels.cuda())\n",
        "\n",
        "        # Predict classes using images from the test set\n",
        "        outputs = model(images)\n",
        "        _, prediction = torch.max(outputs.data, 1)\n",
        "\n",
        "        test_acc += torch.sum(prediction == labels.data).float()\n",
        "\n",
        "    # Compute the average acc and loss over all 10000 test images\n",
        "    test_acc = test_acc / 4242 * 100\n",
        "\n",
        "    return test_acc\n",
        "\n",
        "\n",
        "def train(num_epoch):\n",
        "    best_acc = 0.0\n",
        "\n",
        "    for epoch in range(num_epoch):\n",
        "        model.train()\n",
        "        train_acc = 0.0\n",
        "        train_loss = 0.0\n",
        "        for i, (images, labels) in enumerate(train_loader):\n",
        "            # Move images and labels to gpu if available\n",
        "            if cuda_avail:\n",
        "                images = Variable(images.cuda())\n",
        "                labels = Variable(labels.cuda())\n",
        "\n",
        "            # Clear all accumulated gradients\n",
        "            optimizer.zero_grad()\n",
        "            # Predict classes using images from the test set\n",
        "            outputs = model(images)\n",
        "            # Compute the loss based on the predictions and actual labels\n",
        "            loss = loss_fn(outputs, labels)\n",
        "            # Backpropagate the loss\n",
        "            loss.backward()\n",
        "\n",
        "            # Adjust parameters according to the computed gradients\n",
        "            optimizer.step()\n",
        "\n",
        "            train_loss += loss.cpu().data * images.size(0)\n",
        "            _, prediction = torch.max(outputs.data, 1)\n",
        "\n",
        "            train_acc += torch.sum(prediction == labels.data).float()\n",
        "\n",
        "        # Call the learning rate adjustment function\n",
        "        #adjust_learning_rate(epoch)\n",
        "\n",
        "        # Compute the average acc and loss over all 50000 training images\n",
        "        train_acc = train_acc / 360 * 100\n",
        "        train_loss = train_loss / 360\n",
        "\n",
        "        # Evaluate on the test set\n",
        "        test_acc = test()\n",
        "\n",
        "        # Save the model if the test acc is greater than our current best\n",
        "        if test_acc > best_acc:\n",
        "            save_models(epoch)\n",
        "            best_acc = test_acc\n",
        "\n",
        "        # Print the metrics\n",
        "        print(f\"Epoch {epoch + 1}, Train Accuracy: {train_acc} , TrainLoss: {train_loss} , Test Accuracy: {test_acc}\")\n",
        "\n",
        "if __name__ == '__main__':\n",
        "    freeze_support()\n",
        "    train(num_epochs)"
      ],
      "metadata": {
        "colab": {
          "base_uri": "https://localhost:8080/"
        },
        "id": "4Ik335BweNJh",
        "outputId": "11e90a45-0448-4b3c-9e45-1ee62f6fc743"
      },
      "execution_count": 29,
      "outputs": [
        {
          "output_type": "stream",
          "name": "stderr",
          "text": [
            "/usr/local/lib/python3.7/dist-packages/torch/utils/data/dataloader.py:490: UserWarning: This DataLoader will create 3 worker processes in total. Our suggested max number of worker in current system is 2, which is smaller than what this DataLoader is going to create. Please be aware that excessive worker creation might get DataLoader running slow or even freeze, lower the worker number to avoid potential slowness/freeze if necessary.\n",
            "  cpuset_checked))\n"
          ]
        },
        {
          "output_type": "stream",
          "name": "stdout",
          "text": [
            "Checkpoint saved\n",
            "Epoch 1, Train Accuracy: 16.666667938232422 , TrainLoss: 0.5530499815940857 , Test Accuracy: 1.461574673652649\n",
            "Epoch 2, Train Accuracy: 26.11111068725586 , TrainLoss: 0.5239996314048767 , Test Accuracy: 1.461574673652649\n",
            "Epoch 3, Train Accuracy: 34.16666793823242 , TrainLoss: 0.49467912316322327 , Test Accuracy: 1.461574673652649\n",
            "Epoch 4, Train Accuracy: 39.72222137451172 , TrainLoss: 0.46913355588912964 , Test Accuracy: 0.7779349684715271\n",
            "Epoch 5, Train Accuracy: 42.5 , TrainLoss: 0.43789926171302795 , Test Accuracy: 0.7779349684715271\n",
            "Epoch 6, Train Accuracy: 46.9444465637207 , TrainLoss: 0.3967265784740448 , Test Accuracy: 0.7779349684715271\n",
            "Epoch 7, Train Accuracy: 47.77777862548828 , TrainLoss: 0.35664328932762146 , Test Accuracy: 0.7779349684715271\n",
            "Epoch 8, Train Accuracy: 46.66666793823242 , TrainLoss: 0.342934787273407 , Test Accuracy: 0.7779349684715271\n",
            "Epoch 9, Train Accuracy: 46.66666793823242 , TrainLoss: 0.2890176475048065 , Test Accuracy: 1.4144271612167358\n",
            "Epoch 10, Train Accuracy: 48.88888931274414 , TrainLoss: 0.23859795928001404 , Test Accuracy: 1.4144271612167358\n",
            "Epoch 11, Train Accuracy: 49.44444274902344 , TrainLoss: 0.20530544221401215 , Test Accuracy: 1.4144271612167358\n",
            "Epoch 12, Train Accuracy: 50.0 , TrainLoss: 0.1604209840297699 , Test Accuracy: 1.4144271612167358\n",
            "Epoch 13, Train Accuracy: 50.0 , TrainLoss: 0.12880156934261322 , Test Accuracy: 1.4144271612167358\n",
            "Epoch 14, Train Accuracy: 50.0 , TrainLoss: 0.11772938817739487 , Test Accuracy: 1.4144271612167358\n",
            "Epoch 15, Train Accuracy: 50.0 , TrainLoss: 0.09618999809026718 , Test Accuracy: 1.4144271612167358\n",
            "Epoch 16, Train Accuracy: 49.72222137451172 , TrainLoss: 0.08061527460813522 , Test Accuracy: 1.4144271612167358\n",
            "Epoch 17, Train Accuracy: 50.0 , TrainLoss: 0.06194308027625084 , Test Accuracy: 1.4144271612167358\n",
            "Epoch 18, Train Accuracy: 50.0 , TrainLoss: 0.06117049232125282 , Test Accuracy: 1.4144271612167358\n",
            "Epoch 19, Train Accuracy: 50.0 , TrainLoss: 0.05279899016022682 , Test Accuracy: 1.3437057733535767\n",
            "Epoch 20, Train Accuracy: 50.0 , TrainLoss: 0.05114242807030678 , Test Accuracy: 1.4144271612167358\n"
          ]
        }
      ]
    },
    {
      "cell_type": "code",
      "source": [
        "import torch\n",
        "from torchvision.transforms import transforms\n",
        "from torch.utils.data import DataLoader\n",
        "from PIL import Image\n",
        "#from cnn_main import CNNet\n",
        "from pathlib import Path\n",
        "\n",
        "model = CNNet(3)\n",
        "checkpoint = torch.load(Path('/content/0.model'))\n",
        "model.load_state_dict(checkpoint)\n",
        "trans = transforms.Compose([\n",
        "    transforms.RandomHorizontalFlip(),\n",
        "    transforms.Resize(64),\n",
        "    transforms.CenterCrop(64),\n",
        "    transforms.ToTensor(),\n",
        "    transforms.Normalize((0.5, 0.5, 0.5),(0.5, 0.5, 0.5))\n",
        "    ])\n",
        "\n",
        "model.eval()\n",
        "\n",
        "image = Image.open(Path('/content/drive/MyDrive/The Omni Life - Tongue Images (1)/Train/Vata/1 - Karthik vadlamudi.jpeg'))\n",
        "input_loader = DataLoader(dataset=image, batch_size=32, shuffle=False, num_workers=2)\n",
        "input_loader = trans(image)\n",
        "input_loader = input_loader.view(1, 3, 64,64)\n",
        "\n",
        "output = model(input_loader)\n",
        "\n",
        "prediction = output.data.numpy().argmax()\n",
        "print(prediction)\n",
        "\n",
        "if (prediction == 1):\n",
        "    print ('Kapha')\n",
        "if (prediction == 2):\n",
        "    print ('Pitta')\n",
        "if (prediction == 3):\n",
        "    print ('Vata')"
      ],
      "metadata": {
        "colab": {
          "base_uri": "https://localhost:8080/"
        },
        "id": "QvirPYqsecGr",
        "outputId": "9727b955-8e03-4d2e-efcc-62b60295f64d"
      },
      "execution_count": 30,
      "outputs": [
        {
          "output_type": "stream",
          "name": "stdout",
          "text": [
            "3\n",
            "Vata\n"
          ]
        }
      ]
    }
  ]
}